{
  "nbformat": 4,
  "nbformat_minor": 0,
  "metadata": {
    "colab": {
      "name": "Goodreads Gutenberg Matches.ipynb",
      "provenance": [],
      "authorship_tag": "ABX9TyOTVw4eW/Q+kPZG/5D1obeg",
      "include_colab_link": true
    },
    "kernelspec": {
      "name": "python3",
      "display_name": "Python 3"
    },
    "language_info": {
      "name": "python"
    }
  },
  "cells": [
    {
      "cell_type": "markdown",
      "metadata": {
        "id": "view-in-github",
        "colab_type": "text"
      },
      "source": [
        "<a href=\"https://colab.research.google.com/github/srish1108/Emotion-Analysis/blob/main/Goodreads_Gutenberg_Matches.ipynb\" target=\"_parent\"><img src=\"https://colab.research.google.com/assets/colab-badge.svg\" alt=\"Open In Colab\"/></a>"
      ]
    },
    {
      "cell_type": "code",
      "metadata": {
        "id": "aSpxzpnAPYSI"
      },
      "source": [
        "#Mounting Google Drive\n",
        "from google.colab import drive\n",
        "drive.mount('/content/gdrive')"
      ],
      "execution_count": null,
      "outputs": []
    },
    {
      "cell_type": "code",
      "metadata": {
        "id": "3a4kozM4uCuP"
      },
      "source": [
        "#Loading json files of books from Goodreads Dataset, Genre: Romance\n",
        "\n",
        "import gzip\n",
        "import json\n",
        "import regex as re\n",
        "import pandas as pd\n",
        "\n",
        "def load_data(file_name,head = 500):\n",
        "    count = 0\n",
        "    data = []\n",
        "    with gzip.open(file_name) as fin:\n",
        "        for l in fin:\n",
        "            d = json.loads(l)\n",
        "            count += 1\n",
        "            data.append(d)\n",
        "            print(count)\n",
        "    return data\n",
        "\n",
        "romance = load_data('/content/gdrive/MyDrive/goodreads_romance.json.gz')\n",
        "rom = pd.DataFrame(romance)"
      ],
      "execution_count": null,
      "outputs": []
    },
    {
      "cell_type": "code",
      "metadata": {
        "id": "35MAp0ASWxPH"
      },
      "source": [
        "#Saving data from json files to text files\n",
        "\n",
        "def save(file, lists):\n",
        "    textfile = open(file, \"w\")\n",
        "    for element in lists:\n",
        "        textfile.write(element + \"\\n\")\n",
        "    textfile.close()\n",
        "\n",
        "save('/content/gdrive/MyDrive/goodreads_romance.txt', rom['title'])"
      ],
      "execution_count": null,
      "outputs": []
    },
    {
      "cell_type": "code",
      "metadata": {
        "id": "0DUUqLLWnmy6"
      },
      "source": [
        "#Loading the list of books from Gutenberg Dataset\n",
        "\n",
        "gutenberg_list = open('/content/gdrive/MyDrive/gutenberg.txt', \"r\", encoding=\"ISO-8859-1\")\n",
        "gut = gutenberg_list.readlines()\n",
        "gut = \" \".join(gut)\n",
        "\n",
        "pattern2 = r\"\\([^()]*\\)\"\n",
        "pattern1 = r'[0-9]'\n",
        "gut = re.sub(pattern1, '', gut)\n",
        "gut = re.sub(r'volume', '', gut)\n",
        "gut = re.sub(\"-\", ' ', gut)\n",
        "gut = re.sub(pattern2, '', gut)\n",
        "gut = gut.split(\"\\n\")\n",
        "\n",
        "gutenberg = [i.strip(' ') for i in gut]"
      ],
      "execution_count": null,
      "outputs": []
    },
    {
      "cell_type": "code",
      "metadata": {
        "id": "UnDWg1dRVkEI"
      },
      "source": [
        "#Loading the list of books from Goodreads Dataset, Genre: Romance\n",
        "\n",
        "goodreads_list = open('/content/gdrive/MyDrive/goodreads_romance.txt', \"r\")\n",
        "good_rom = goodreads_list.readlines()\n",
        "\n",
        "good_rom = \" \".join(good_rom).lower()\n",
        "good_rom = good_rom.lower()\n",
        "\n",
        "pattern1 = r\"\\([^()]*\\)\"\n",
        "pattern2 = r\"\\[[^()]*\\]\"\n",
        "pattern3 = r'[0-9]'\n",
        "good_rom = re.sub(pattern1, '', good_rom)\n",
        "good_rom = re.sub(pattern2, '', good_rom)\n",
        "good_rom = re.sub(pattern3, '', good_rom)\n",
        "good_rom = good_rom.split(\"\\n\")\n",
        "\n",
        "good_rom = [i.strip(' ') for i in good_rom]"
      ],
      "execution_count": null,
      "outputs": []
    },
    {
      "cell_type": "code",
      "metadata": {
        "id": "pLQvGTz6puS6"
      },
      "source": [
        "#Match the set of book names from the 2 lists and save in a txt file\n",
        "\n",
        "romance = set(gutenberg) & set(good_rom)\n",
        "save('/content/gdrive/MyDrive/romance.txt', romance)"
      ],
      "execution_count": null,
      "outputs": []
    }
  ]
}